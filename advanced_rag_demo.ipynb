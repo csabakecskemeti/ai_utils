{
 "cells": [
  {
   "cell_type": "markdown",
   "id": "ea5b743d-1189-47a2-85a0-66ef81616ea1",
   "metadata": {},
   "source": [
    "## Install required packages"
   ]
  },
  {
   "cell_type": "code",
   "execution_count": 138,
   "id": "81093770-9349-41fb-9b30-f3adaf11dde4",
   "metadata": {},
   "outputs": [
    {
     "name": "stderr",
     "output_type": "stream",
     "text": [
      "huggingface/tokenizers: The current process just got forked, after parallelism has already been used. Disabling parallelism to avoid deadlocks...\n",
      "To disable this warning, you can either:\n",
      "\t- Avoid using `tokenizers` before the fork if possible\n",
      "\t- Explicitly set the environment variable TOKENIZERS_PARALLELISM=(true | false)\n"
     ]
    }
   ],
   "source": [
    "!pip install qdrant-client langchain langchain_community pypdf openai lmstudio sentence-transformers duckduckgo-search --quiet\n"
   ]
  },
  {
   "cell_type": "markdown",
   "id": "b328866e-f9ba-47cf-9920-ef0f72a8be59",
   "metadata": {},
   "source": [
    "## Setup models\n",
    "Here we leverage the LM studio python api.\n",
    "The local LMStudio server supply the LLM and the embedding model"
   ]
  },
  {
   "cell_type": "code",
   "execution_count": 384,
   "id": "a93118b5-4840-4717-a4c3-29e49f378636",
   "metadata": {},
   "outputs": [
    {
     "data": {
      "application/vnd.jupyter.widget-view+json": {
       "model_id": "fd7e514cb9b24096a7d6720792139335",
       "version_major": 2,
       "version_minor": 0
      },
      "text/plain": [
       "config.json:   0%|          | 0.00/967 [00:00<?, ?B/s]"
      ]
     },
     "metadata": {},
     "output_type": "display_data"
    },
    {
     "data": {
      "application/vnd.jupyter.widget-view+json": {
       "model_id": "1f78aa83bc7c40a594e6823f467c2e98",
       "version_major": 2,
       "version_minor": 0
      },
      "text/plain": [
       "model.safetensors:   0%|          | 0.00/369M [00:00<?, ?B/s]"
      ]
     },
     "metadata": {},
     "output_type": "display_data"
    },
    {
     "data": {
      "application/vnd.jupyter.widget-view+json": {
       "model_id": "22c68b3ad0834b84b9d92182f9c307dc",
       "version_major": 2,
       "version_minor": 0
      },
      "text/plain": [
       "tokenizer_config.json:   0%|          | 0.00/1.45k [00:00<?, ?B/s]"
      ]
     },
     "metadata": {},
     "output_type": "display_data"
    },
    {
     "data": {
      "application/vnd.jupyter.widget-view+json": {
       "model_id": "5b8864853342491ab66f78567c5a4a49",
       "version_major": 2,
       "version_minor": 0
      },
      "text/plain": [
       "spm.model:   0%|          | 0.00/2.46M [00:00<?, ?B/s]"
      ]
     },
     "metadata": {},
     "output_type": "display_data"
    },
    {
     "data": {
      "application/vnd.jupyter.widget-view+json": {
       "model_id": "d7037d258f344fb39148545d8c0492f2",
       "version_major": 2,
       "version_minor": 0
      },
      "text/plain": [
       "tokenizer.json:   0%|          | 0.00/8.65M [00:00<?, ?B/s]"
      ]
     },
     "metadata": {},
     "output_type": "display_data"
    },
    {
     "data": {
      "application/vnd.jupyter.widget-view+json": {
       "model_id": "1bc59f15ae454799a671406fd781fc36",
       "version_major": 2,
       "version_minor": 0
      },
      "text/plain": [
       "added_tokens.json:   0%|          | 0.00/23.0 [00:00<?, ?B/s]"
      ]
     },
     "metadata": {},
     "output_type": "display_data"
    },
    {
     "data": {
      "application/vnd.jupyter.widget-view+json": {
       "model_id": "b567a51646ed4c58b068aaf1e9d0448c",
       "version_major": 2,
       "version_minor": 0
      },
      "text/plain": [
       "special_tokens_map.json:   0%|          | 0.00/970 [00:00<?, ?B/s]"
      ]
     },
     "metadata": {},
     "output_type": "display_data"
    },
    {
     "data": {
      "application/vnd.jupyter.widget-view+json": {
       "model_id": "c21b2873cc40485299fc893990fcae97",
       "version_major": 2,
       "version_minor": 0
      },
      "text/plain": [
       "README.md:   0%|          | 0.00/49.5k [00:00<?, ?B/s]"
      ]
     },
     "metadata": {},
     "output_type": "display_data"
    }
   ],
   "source": [
    "import lmstudio as lms\n",
    "# local model for embedding\n",
    "embedding_model = lms.embedding_model(\"nomic-embed-text-v1.5\")\n",
    "# chat model\n",
    "model = lms.llm()\n",
    "\n",
    "from sentence_transformers import CrossEncoder\n",
    "# rerank model\n",
    "# rank_model = CrossEncoder(\"mixedbread-ai/mxbai-rerank-xsmall-v1\")\n",
    "rank_model = CrossEncoder(\"mixedbread-ai/mxbai-rerank-base-v1\")"
   ]
  },
  {
   "cell_type": "markdown",
   "id": "08cc432e-c866-4861-9a14-561058abbfff",
   "metadata": {},
   "source": [
    "## We have to chunk the documents"
   ]
  },
  {
   "cell_type": "code",
   "execution_count": 385,
   "id": "3068def6-7f7d-4756-9b4b-ef367f3ebeda",
   "metadata": {},
   "outputs": [],
   "source": [
    "from langchain.document_loaders import PyPDFLoader\n",
    "from langchain.text_splitter import RecursiveCharacterTextSplitter\n",
    "\n",
    "def chunk_pdf(file_path, chunk_size=10000, overlap=500):\n",
    "    loader = PyPDFLoader(file_path)\n",
    "    docs = loader.load()\n",
    "\n",
    "    splitter = RecursiveCharacterTextSplitter(chunk_size=chunk_size, chunk_overlap=overlap)\n",
    "    return splitter.split_documents(docs)"
   ]
  },
  {
   "cell_type": "markdown",
   "id": "7b4bbb0c-cdbe-4d55-91c0-a29b1bc3f8c4",
   "metadata": {},
   "source": [
    "## Let's use a local qdrant vector store\n",
    "For installation refer to:\n",
    "https://hub.docker.com/r/qdrant/qdrant"
   ]
  },
  {
   "cell_type": "code",
   "execution_count": 386,
   "id": "5b0092ab-3254-4ebd-bca5-be1fd3a20281",
   "metadata": {},
   "outputs": [],
   "source": [
    "from qdrant_client import QdrantClient, models\n",
    "import uuid  # Add this import to generate UUIDs\n",
    "from tqdm import tqdm  # Import tqdm for the progress bar\n",
    "\n",
    "client = QdrantClient(\"localhost\", port=6333)\n",
    "\n",
    "def pdf2rag_store(pdf_file, collection_name=None, batch_size=100):\n",
    "    if collection_name is None:\n",
    "        collection_name = pdf_file\n",
    "\n",
    "    # Generate the chunks from the PDF file\n",
    "    chunks = chunk_pdf(pdf_file)\n",
    "    points = []\n",
    "\n",
    "    # Get the first embedding to determine the vector size\n",
    "    first_chunk = chunks[0]\n",
    "    first_embedding = embedding_model.embed(first_chunk.page_content)\n",
    "    vector_size = len(first_embedding)  # Determine vector size from first embedding\n",
    "\n",
    "    # Check if the collection exists, and create it if not\n",
    "    try:\n",
    "        client.get_collection(collection_name=collection_name)\n",
    "        print(f\"Collection '{collection_name}' already exists.\")\n",
    "    except Exception as e:\n",
    "        print(f\"Collection '{collection_name}' does not exist. Creating...\")\n",
    "        \n",
    "        # Specify the vector configuration (e.g., vector size and distance metric)\n",
    "        vectors_config = models.VectorParams(\n",
    "            size=vector_size,\n",
    "            distance=models.Distance.COSINE  # You can change this to another distance metric if needed\n",
    "        )\n",
    "        \n",
    "        # Create the collection with the vector config\n",
    "        client.create_collection(\n",
    "            collection_name=collection_name,\n",
    "            vectors_config=vectors_config\n",
    "        )\n",
    "        print(f\"Collection '{collection_name}' created.\")\n",
    "\n",
    "    # Create points for each chunk with tqdm progress bar\n",
    "    for i, chunk in tqdm(enumerate(chunks), total=len(chunks), desc=\"Processing Chunks\"):\n",
    "        # Get the embedding for the chunk\n",
    "        # Optionally you can summarize the chunk with LLM and embedd the summary\n",
    "        embedding = embedding_model.embed(chunk.page_content)\n",
    "\n",
    "        # Use a UUID for the point ID instead of a string index\n",
    "        point_id = str(uuid.uuid4())  # Generate a UUID for each point\n",
    "\n",
    "        # Create a PointStruct and append it to the points list\n",
    "        points.append(models.PointStruct(\n",
    "            id=point_id,  # Use UUID as ID\n",
    "            vector=embedding,\n",
    "            payload={\"text\": chunk.page_content}\n",
    "        ))\n",
    "\n",
    "        # If we've reached the batch size, upsert and clear the points list\n",
    "        if len(points) >= batch_size:\n",
    "            client.upsert(\n",
    "                collection_name=collection_name,\n",
    "                points=points\n",
    "            )\n",
    "            print(f\"Stored {len(points)} points in collection '{collection_name}'\")\n",
    "            points = []  # Clear the list for the next batch\n",
    "\n",
    "    # Insert any remaining points if they exist\n",
    "    if points:\n",
    "        client.upsert(\n",
    "            collection_name=collection_name,\n",
    "            points=points\n",
    "        )\n",
    "        print(f\"Stored {len(points)} remaining points in collection '{collection_name}'\")\n",
    "\n"
   ]
  },
  {
   "cell_type": "markdown",
   "id": "0d596fca-877b-42f5-b40f-4f624bd2a3fc",
   "metadata": {},
   "source": [
    "## Chunk and store pdf datasources in vector DB"
   ]
  },
  {
   "cell_type": "code",
   "execution_count": 521,
   "id": "b0339cfc-3145-44e9-b212-dd897252a390",
   "metadata": {},
   "outputs": [],
   "source": [
    "# https://bjpcjp.github.io/pdfs/devops/linux-commands-handbook.pdf\n",
    "pdf_file = '~/Downloads/linux-commands-handbook.pdf'\n",
    "pdf2rag_store(pdf_file, \"linux-commands-handbook\")"
   ]
  },
  {
   "cell_type": "code",
   "execution_count": 465,
   "id": "cf4c0ed1-378a-4f36-aba6-b47fcb0390e4",
   "metadata": {},
   "outputs": [
    {
     "name": "stdout",
     "output_type": "stream",
     "text": [
      "Collection 'dos_commands' does not exist. Creating...\n",
      "Collection 'dos_commands' created.\n"
     ]
    },
    {
     "name": "stderr",
     "output_type": "stream",
     "text": [
      "Processing Chunks: 100%|█████████████████████████████████████████████████████████████████████████████████████████████████████████████████████████████████████████████████| 3/3 [00:00<00:00, 91.15it/s]"
     ]
    },
    {
     "name": "stdout",
     "output_type": "stream",
     "text": [
      "Stored 3 remaining points in collection 'dos_commands'\n"
     ]
    },
    {
     "name": "stderr",
     "output_type": "stream",
     "text": [
      "\n"
     ]
    }
   ],
   "source": [
    "# https://www.polygwalior.ac.in/file/20181115101103600592.pdf\n",
    "pdf_file = '~/Downloads/dos_commands.pdf'\n",
    "pdf2rag_store(pdf_file, \"dos_commands\")"
   ]
  },
  {
   "cell_type": "code",
   "execution_count": 520,
   "id": "052321e2-edd2-4df0-881c-0dce83d3bfa8",
   "metadata": {},
   "outputs": [],
   "source": [
    "# http://ufdcimages.uflib.ufl.edu/AA/00/01/16/99/00001/WorldHistory.pdf\n",
    "pdf_file = '~/Downloads/WorldHistory.pdf'\n",
    "pdf2rag_store(pdf_file, \"world-history\")"
   ]
  },
  {
   "cell_type": "code",
   "execution_count": 522,
   "id": "de8e7671-c1e0-4077-9a90-a652de44b4fe",
   "metadata": {},
   "outputs": [],
   "source": [
    "# https://www.uhd.edu/documents/provost/us-history.pdf\n",
    "pdf_file = '~/Downloads/us-history.pdf'\n",
    "pdf2rag_store(pdf_file, \"us-history\")"
   ]
  },
  {
   "cell_type": "code",
   "execution_count": 256,
   "id": "3233d3c5-1107-441d-892b-c859632ecbbe",
   "metadata": {},
   "outputs": [],
   "source": [
    "def search(collection_name, query_text, top_k=5):\n",
    "    # Perform a search for similar vectors\n",
    "    search_result = client.search(\n",
    "        collection_name=collection_name,\n",
    "        query_vector=embedding_model.embed(query_text),\n",
    "        limit=top_k\n",
    "    )\n",
    "    return search_result"
   ]
  },
  {
   "cell_type": "markdown",
   "id": "2345efae-6baa-4faa-a1cc-654decd6264e",
   "metadata": {},
   "source": [
    "## Add websearch capabilities"
   ]
  },
  {
   "cell_type": "code",
   "execution_count": 478,
   "id": "ae34697e-49b8-4e2a-8797-3ef9b260a9db",
   "metadata": {},
   "outputs": [],
   "source": [
    "from duckduckgo_search import DDGS\n",
    "\n",
    "def web_search(query, top_k=10):\n",
    "    results = []\n",
    "    try:\n",
    "        with DDGS() as ddgs:\n",
    "            search_results = ddgs.text(query, max_results=top_k)\n",
    "            results = [\n",
    "                f\">>>>SOURCE WEB<<<: {r['title']} - {r['href']}\\n{r['body']}\\n\\n\"\n",
    "                for r in search_results\n",
    "            ]\n",
    "    except Exception as e:\n",
    "        print(f\"Web search failed: {e}\")\n",
    "    return results"
   ]
  },
  {
   "cell_type": "markdown",
   "id": "d6c33c71-ed04-428c-bbe5-67517678b232",
   "metadata": {},
   "source": [
    "## Context Search and Combination in the `rag` Function\n",
    "\n",
    "The `rag` function searches for context using two main sources:\n",
    "\n",
    "### 1. **Vector Search with Qdrant**\n",
    "- It queries multiple collections in a vector database using the input query.\n",
    "- Each collection contains document embeddings, and the function retrieves the `top_k` most relevant results.\n",
    "- The results are labeled with their source using the format (just for better visibility for the demo):\n",
    "\">>>SOURCE QDRANT/{collection_name}<<<\"\n",
    "\n",
    "This helps identify where the information originated.\n",
    "\n",
    "### 2. **Web Search**\n",
    "- The function performs a web search using the query to fetch up-to-date information.\n",
    "- Web search results are particularly useful for topics with recent updates or dynamic information.\n",
    "- The websearch result already prefixed by: \">>>>SOURCE WEB<<<\"\n",
    "\n",
    "### 3. **Combining Results**\n",
    "- Both the vector search results and the web search results are combined into a single list called `text_list`.\n",
    "- This combined context ensures the model has access to a diverse and relevant set of information.\n",
    "- Afterward, a reranking model selects the `rerank_top_k` most relevant documents from `text_list`.\n",
    "- The final set of reranked documents is used as context to generate an accurate and informed response.\n",
    "\n"
   ]
  },
  {
   "cell_type": "code",
   "execution_count": 482,
   "id": "62aedd9f-d795-4aee-ba85-370c27fea417",
   "metadata": {},
   "outputs": [],
   "source": [
    "def rag(query, top_k=40, rerank_top_k=10):\n",
    "    collections = client.get_collections()\n",
    "    text_list = [\n",
    "        f\">>>>SOURCE QDRANT/{c.name}<<<: {i.payload['text']}\\n\\n\"\n",
    "        for c in collections.collections\n",
    "        for i in search(c.name, query, top_k=top_k)\n",
    "    ]\n",
    "    # Perform a web search\n",
    "    web_results = web_search(query, top_k=top_k)\n",
    "    print(f'Web results: {len(web_results)}')\n",
    "\n",
    "    # Combine results\n",
    "    text_list.extend(web_results)\n",
    "    print(f'Total text_list: {len(text_list)}')\n",
    "    \n",
    "    rerank_results = rank_model.rank(query, text_list, return_documents=True, top_k=rerank_top_k)\n",
    "    concatenated_text = \"\\n\".join(i['text'] for i in rerank_results)\n",
    "    print(f'context: {len(rerank_results)}')\n",
    "    prompt = f\"\"\"\n",
    "    {query}\n",
    "    \n",
    "    Provide a clear and well-structured answer using **Markdown formatting**.\n",
    "    Only use the provided context\n",
    "    \n",
    "    ### Context:\n",
    "    {concatenated_text}\n",
    "    \"\"\"\n",
    "\n",
    "    return model.respond(prompt), concatenated_text, text_list\n"
   ]
  },
  {
   "cell_type": "code",
   "execution_count": 483,
   "id": "a6e92a70-214e-4cc2-be43-5c74f7927812",
   "metadata": {},
   "outputs": [],
   "source": [
    "from IPython.display import display, Markdown\n",
    "\n",
    "def rag_formatted(query):\n",
    "    res, ctx, text_list = rag(query)\n",
    "    display(Markdown(res.content))\n",
    "    return ctx, text_list\n"
   ]
  },
  {
   "cell_type": "code",
   "execution_count": 516,
   "id": "73630b9d-871f-4067-87c9-1e47e2cda623",
   "metadata": {},
   "outputs": [
    {
     "name": "stderr",
     "output_type": "stream",
     "text": [
      "/tmp/ipykernel_10573/804948086.py:3: DeprecationWarning: `search` method is deprecated and will be removed in the future. Use `query_points` instead.\n",
      "  search_result = client.search(\n"
     ]
    },
    {
     "name": "stdout",
     "output_type": "stream",
     "text": [
      "Web results: 40\n",
      "Total text_list: 163\n",
      "context: 10\n"
     ]
    },
    {
     "data": {
      "text/markdown": [
       "Hungary was founded in 895 AD by Árpád, the leader of the Hungarian tribes. The Kingdom of Hungary was established in 1000 AD when Stephen I was crowned as its first king."
      ],
      "text/plain": [
       "<IPython.core.display.Markdown object>"
      ]
     },
     "metadata": {},
     "output_type": "display_data"
    }
   ],
   "source": [
    "ctx, pre_reranked_ctx = rag_formatted(\"When was Hungary founded?\")"
   ]
  },
  {
   "cell_type": "code",
   "execution_count": 518,
   "id": "551fa5d3-f875-49cd-a07b-02827f6a9571",
   "metadata": {},
   "outputs": [
    {
     "data": {
      "text/plain": [
       "'>>>>SOURCE WEB<<<: 30 Facts About Hungary - OhMyFacts - https://ohmyfacts.com/world/countries/30-facts-about-hungary/\\nHungary was founded in 895 AD by Árpád, the leader of the Hungarian tribes. The Kingdom of Hungary was established in 1000 AD when Stephen I was crowned as its first king. Hungary was part of the Austro-Hungarian Empire from 1867 until its dissolution in 1918. The country has been a member of the European Union since 2004. Cultural Heritage\\n\\n\\n>>>>SOURCE WEB<<<: When was Hungary founded? - Answers - https://www.answers.com/travel-destinations/When_was_Hungary_founded\\nHungary was founded in 896.\\n\\n\\n>>>>SOURCE WEB<<<: Brief History of Hungary - English - We love Budapest - https://welovebudapest.com/en/article/2011/02/14/brief-history-of-hungary\\nIt was founded in 895 and became a Christian kingdom in 1000 by the crowning of St. Stephan, recognized by the pope. ... of Stephan and his descendants was the stabilization of Christianity and to Europeanize the previously nomadic Hungarian people. During the Arpad and from 1301, the Anjou dynasties medieval Hungary was flourishing (except for ...\\n\\n\\n>>>>SOURCE WEB<<<: Brief history - Study in Hungary - http://studyinhungary.hu/why-hungary/menu/brief-history.html\\nHungarian conquest. Hungarian people from the Urals arrived in the Carpathian Basin in 895-896, then conquered the territory and settled down. One hundred years later our first king, Stephen I, founded the Hungarian state and integrated the country into the European Christian nations. Matthias Corvinus and the Hunyadi era\\n\\n\\n>>>>SOURCE WEB<<<: Study in Hungary - Brief history - https://studyinhungary.hu/why-hungary/menu/brief-history.html\\nHungarian conquest. Hungarian people from the Urals arrived in the Carpathian Basin in 895-896, then conquered the territory and settled down. One hundred years later our first king, Stephen I, founded the Hungarian state and integrated the country into the European Christian nations. Matthias Corvinus and the Hunyadi era\\n\\n\\n>>>>SOURCE WEB<<<: History of Hungary | Embassy of Hungary Washington - gov.hu - https://washington.mfa.gov.hu/eng/page/history-of-hungary\\nHUNGARY\\'S HISTORY IN A NUTSHELL. This nation has more than a thousand years of history, full of great events, kings, battles, allies, enemies, intrigue and sometimes, peaceful years. ... In 1000, King Stephen I (St. Stephen) founded the state of Hungary, and accepted the Catholic religion as its standard. Stephen was crowned with the Holy Crown ...\\n\\n\\n>>>>SOURCE WEB<<<: Hungary - Magyar, Ottoman, Habsburg | Britannica - https://www.britannica.com/place/Hungary/History\\nHungary - Magyar, Ottoman, Habsburg: It is generally believed that Hungary came into existence when the Magyars, a Finno-Ugric people, began occupying the middle basin of the Danube River in the late 9th century. According to the \"double-conquest\" theory of archaeologist Gyula László, however, Hungary\\'s creation can be dated to 670, with the arrival of an earlier wave of conquerors ...\\n\\n\\n>>>>SOURCE WEB<<<: The founding of Hungary - KFKI - https://www.kfki.hu/~wmaster/honf.html\\nThe Hungarian Conquest began when Arpad crossed the north-eastern passes of the Carpathians in the autumn of 895. With the main Hungarian army Arpad descended into the plains along the Tisza river. The region they traversed, the Great Hungarian Plain, was largely no man\\'s land, inhabited by scattered remnants of Avars and Hungarians settled ...\\n\\n\\n>>>>SOURCE WEB<<<: Brief History of Hungary - American Hungarian Museum - Amerikai Magyar ... - https://magyarmuseum.org/history-in-a-nutshell/hungarys-history-in-a-nutshell/\\nKing St. István (997-1038) founded ten dioceses and reorganized Hungary politically and economically. He requested and received the crown from Pope Sylvester II, and was crowned king in 1000. The Holy Crown of Hungary, a symbol and depository of constitutional power, was the symbolic holder of the supreme power of the State until 1945.\\n\\n\\n>>>>SOURCE WEB<<<: Kingdom of Hungary - Wikipedia - https://en.wikipedia.org/wiki/Kingdom_of_Hungary\\nThe Kingdom of Hungary was a monarchy in Central Europe that existed for nearly a millennium, from 1000 to 1946 and was a key part of the Habsburg monarchy from 1526-1918. The Principality of Hungary emerged as a Christian kingdom upon the coronation of the first king Stephen I at Esztergom around the year 1000; [8] his family (the Árpád dynasty) led the monarchy for 300 years.\\n\\n'"
      ]
     },
     "execution_count": 518,
     "metadata": {},
     "output_type": "execute_result"
    }
   ],
   "source": [
    "ctx"
   ]
  },
  {
   "cell_type": "code",
   "execution_count": 517,
   "id": "f56c0fec-7278-4ced-bc8f-6efef0dd066e",
   "metadata": {},
   "outputs": [],
   "source": [
    "# pre_reranked_ctx"
   ]
  },
  {
   "cell_type": "code",
   "execution_count": 514,
   "id": "09e548f8-2ed5-4fd1-8175-5bb4a010a4ea",
   "metadata": {},
   "outputs": [
    {
     "name": "stderr",
     "output_type": "stream",
     "text": [
      "/tmp/ipykernel_10573/804948086.py:3: DeprecationWarning: `search` method is deprecated and will be removed in the future. Use `query_points` instead.\n",
      "  search_result = client.search(\n"
     ]
    },
    {
     "name": "stdout",
     "output_type": "stream",
     "text": [
      "Web results: 40\n",
      "Total text_list: 163\n",
      "context: 10\n"
     ]
    },
    {
     "data": {
      "text/markdown": [
       "When using the `umask` command without any arguments, it displays the current mask value in octal form.\n",
       "\n",
       "Here's a summary:\n",
       "\n",
       "* The `umask` command sets a mask that restricts default permissions.\n",
       "* Without any arguments, `umask` displays the current user mask in octal form.\n",
       "* Running `umask` by itself provides the default permissions that will be applied to newly created files and directories.\n",
       "* The output of `umask` without arguments shows the permission bits that will NOT be set on the newly created files and directories."
      ],
      "text/plain": [
       "<IPython.core.display.Markdown object>"
      ]
     },
     "metadata": {},
     "output_type": "display_data"
    }
   ],
   "source": [
    "ctx, pre_reranked_ctx = rag_formatted(\"What does umask command do with no arguments?\")"
   ]
  },
  {
   "cell_type": "markdown",
   "id": "9d01b968-4bfe-4fc7-84b7-21052932c199",
   "metadata": {},
   "source": [
    "### Note: \n",
    "The reranked context contain relevant information from the web but also from the embedded document from qdrant"
   ]
  },
  {
   "cell_type": "code",
   "execution_count": 515,
   "id": "42288d78-b29d-4cb7-ba21-855dd08af1ae",
   "metadata": {},
   "outputs": [
    {
     "data": {
      "text/plain": [
       "'>>>>SOURCE WEB<<<: What is Umask in Linux and how to use it effectively? - https://www.rosehosting.com/blog/what-is-umask-in-linux/\\nThe bits in the umask command can be changed by invoking the umask command. The syntax of the umask command is the following one: umask [OPTION]... [MODE] Executing this command without arguments or options will return the current value. Let\\'s implement it: umask. You should get output with bits like this: root@host:~# umask 0022\\n\\n\\n>>>>SOURCE WEB<<<: umask Cheat Sheet - umask Command Line Guide - https://www.commandinline.com/cheat-sheet/umask/\\nThe umask command sets a mask that restricts these default permissions. Basic Syntax: umask [MASK] [MASK]: The permission mask to apply (as an octal value). Without any arguments, umask displays the current mask. How umask Works. Permissions for files: Files cannot have execute permissions by default.\\n\\n\\n>>>>SOURCE WEB<<<: What is umask command for? - Unix & Linux Stack Exchange - https://unix.stackexchange.com/questions/674663/what-is-umask-command-for\\nApplications can still call fchmod() or chmod() afterwards to change the permissions as they like (and the umask has no effect there). umask without arguments reports the current user mask in octal form. umask -S in some shells report it in symbolic form. umask -p in bash or fish outputs shell code which once interpreted would set the same user ...\\n\\n\\n>>>>SOURCE WEB<<<: Understanding Linux Permissions: A Guide to umask, chmod, and ... - Medium - https://medium.com/it-security-in-plain-english/understanding-linux-permissions-a-guide-to-umask-chmod-and-setfacl-47382da76249\\nWithout any arguments, umask displays the current mask value. Setting a new umask value can be done by simply typing umask followed by the desired mode. Examples. Viewing the Current umask Value ...\\n\\n\\n>>>>SOURCE QDRANT/linux-commands-handbook<<<: 67\\numask\\nWhen you create a file, you don\\'t have to decide\\npermissions up front. Permissions have defaults.\\nThose defaults can be controlled and modified using\\nthe \\xa0umask\\xa0 command.\\nTyping \\xa0umask\\xa0 with no arguments will show you the\\ncurrent umask, in this case \\xa00022\\xa0:\\nWhat does \\xa00022\\xa0 mean? That\\'s an octal value that\\nrepresent the permissions.\\nAnother common value is \\xa00002\\xa0.\\nUse \\xa0umask -S\\xa0 to see a human-readable notation:\\nIn this case, the user (\\xa0u\\xa0), owner of the file, has read,\\nwrite and execution permissions on files.\\n\\n\\n>>>>SOURCE WEB<<<: What is Umask and How To Setup Default umask Under Linux? - https://www.cyberciti.biz/tips/understanding-linux-unix-umask-value-usage.html\\nUse the umask command to set default file permissions on Linux and Unix-like machines. Finding the current shell\\'s umask value. The umask command without any arguments will display the current value of the shell\\'s umask. For example: $ umask. Procedure to set up default umask on Linux\\n\\n\\n>>>>SOURCE WEB<<<: Umask Command in Linux | Linuxize - https://linuxize.com/post/umask-command-in-linux/\\nYou can also change the current session umask value by running umask followed by the desired value. To view the current mask value, simply type umask without any arguments: umask. The output will include the. 022 The umask value contains the permission bits that will NOT be set on the newly created files and directories.\\n\\n\\n>>>>SOURCE WEB<<<: What Is Umask? How to Use it Effectively - Liquid Web - https://www.liquidweb.com/blog/what-is-umask-and-how-to-use-it-effectively/\\nThe umask command works by stripping away permissions as the file is created. On the system, ... The return status is 0 if the mode was successfully changed or if no mode argument was supplied, and false otherwise. To view the current umask value, we use the umask command. Running the umask command by itself provide the default permissions that ...\\n\\n\\n>>>>SOURCE WEB<<<: what is the difference between umask and chmod - Super User - https://superuser.com/questions/1030110/what-is-the-difference-between-umask-and-chmod\\nNo, umaskdoes not set \"an environment variable\" What it does do is set the file mode creation mask of the current shell execution environment. ... it doesn\\'t have a file argument. ... You can find the result of the umask octal command in the source when using umask, depending on the octal and if it is a file or a directory.\\n\\n\\n>>>>SOURCE WEB<<<: Linux shell: understanding Umask with examples - Linuxaria - https://linuxaria.com/article/linux-shell-understanding-umask-with-examples\\nThe remainder is the value to use with the umask command. For example, suppose you want to change the default mode for files to 664 (rw-rw-r-). The difference between 666 and 664 is 002, which is the value you would use as an argument to the umask command. Or just use this handy table\\n\\n'"
      ]
     },
     "execution_count": 515,
     "metadata": {},
     "output_type": "execute_result"
    }
   ],
   "source": [
    "ctx"
   ]
  },
  {
   "cell_type": "code",
   "execution_count": 505,
   "id": "5732277a-c50f-4c9c-9fbf-0f756dc4e984",
   "metadata": {},
   "outputs": [],
   "source": [
    "# pre_reranked_ctx"
   ]
  },
  {
   "cell_type": "code",
   "execution_count": null,
   "id": "b755bfec-5d4f-4b31-b111-bbfab3d9826b",
   "metadata": {},
   "outputs": [],
   "source": []
  }
 ],
 "metadata": {
  "kernelspec": {
   "display_name": "Python 3 (ipykernel)",
   "language": "python",
   "name": "python3"
  },
  "language_info": {
   "codemirror_mode": {
    "name": "ipython",
    "version": 3
   },
   "file_extension": ".py",
   "mimetype": "text/x-python",
   "name": "python",
   "nbconvert_exporter": "python",
   "pygments_lexer": "ipython3",
   "version": "3.12.9"
  }
 },
 "nbformat": 4,
 "nbformat_minor": 5
}
